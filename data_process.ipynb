{
 "cells": [
  {
   "cell_type": "code",
   "execution_count": 1,
   "metadata": {
    "ExecuteTime": {
     "end_time": "2020-02-10T14:54:05.951572Z",
     "start_time": "2020-02-10T14:54:03.874619Z"
    }
   },
   "outputs": [],
   "source": [
    "import pandas as pd"
   ]
  },
  {
   "cell_type": "code",
   "execution_count": 2,
   "metadata": {
    "ExecuteTime": {
     "end_time": "2020-02-10T14:54:28.671571Z",
     "start_time": "2020-02-10T14:54:08.018325Z"
    }
   },
   "outputs": [],
   "source": [
    "data2018=pd.read_csv(\"data/app_full_2018_new.csv\",dtype=str)\n",
    "data2018=data2018.drop(columns=['Application_ID','Account_Number','Open_Date','Received_Date','DOB'])\n",
    "Email=data2018.Email.str.split('@',expand = True)\n",
    "data2018['Email_User']=Email[0]\n",
    "data2018['Email_Domain']=Email[1]\n",
    "data2018.drop(columns=['Email'],inplace=True)"
   ]
  },
  {
   "cell_type": "code",
   "execution_count": 3,
   "metadata": {
    "ExecuteTime": {
     "end_time": "2020-02-10T14:54:38.020190Z",
     "start_time": "2020-02-10T14:54:38.016188Z"
    },
    "run_control": {
     "marked": true
    }
   },
   "outputs": [],
   "source": [
    "def data_clean(data):\n",
    "    data['Age']=data['Age'].fillna(0).astype(int)\n",
    "    data['Credit_Limit']=data['Credit_Limit'].astype(float)\n",
    "    data['Monthly_Income']=data['Monthly_Income'].astype(float)\n",
    "    data['Fraud']=list(map(lambda x: 1 if x=='Y' else 0,data['Fraud']))\n",
    "    return data"
   ]
  },
  {
   "cell_type": "code",
   "execution_count": 4,
   "metadata": {
    "ExecuteTime": {
     "end_time": "2020-02-10T14:54:42.610972Z",
     "start_time": "2020-02-10T14:54:40.817625Z"
    }
   },
   "outputs": [],
   "source": [
    "data2018=data_clean(data2018)"
   ]
  },
  {
   "cell_type": "code",
   "execution_count": 5,
   "metadata": {
    "ExecuteTime": {
     "end_time": "2020-02-10T14:55:00.108616Z",
     "start_time": "2020-02-10T14:54:58.240530Z"
    }
   },
   "outputs": [],
   "source": [
    "State_Risk=data2018.groupby('State')['Fraud'].aggregate(lambda x: sum(x)/len(x))\n",
    "Sub_Channel_Risk=data2018.groupby('Sub_Channel')['Fraud'].aggregate(lambda x: sum(x)/len(x))\n",
    "Sub_Agent_Bank_Risk=data2018.groupby('Sub_Agent_Bank')['Fraud'].aggregate(lambda x: sum(x)/len(x))\n",
    "Agent_Bank_Risk=data2018.groupby('Agent_Bank')['Fraud'].aggregate(lambda x: sum(x)/len(x))\n",
    "Email_Domain_Risk=data2018.groupby('Email_Domain')['Fraud'].aggregate(lambda x: sum(x)/len(x))\n",
    "City_Risk=data2018.groupby('City')['Fraud'].aggregate(lambda x: sum(x)/len(x))"
   ]
  },
  {
   "cell_type": "code",
   "execution_count": 6,
   "metadata": {
    "ExecuteTime": {
     "end_time": "2020-02-10T14:55:09.496853Z",
     "start_time": "2020-02-10T14:55:09.409198Z"
    }
   },
   "outputs": [],
   "source": [
    "Fraud2018=data2018[data2018.Fraud==1]\n",
    "\n",
    "SSN_Risk=set(Fraud2018['SSN'].dropna().values)\n",
    "Phone_Risk=set(Fraud2018['Home_Phone'].dropna().values).union(set(Fraud2018['Work_Phone'].dropna().values))\n",
    "IP_Risk=set(Fraud2018['IP_Address'].dropna().values)\n",
    "ZIP_Risk=set(Fraud2018['Zip_Code'].dropna().values)\n",
    "\n",
    "Name_Risk=set(Fraud2018['Full_name'].dropna().values)\n",
    "Address_Risk=set(Fraud2018['Address'].dropna().values)\n",
    "Email_User_Risk=set(Fraud2018['Email_User'].dropna().values)\n",
    "Employer_Risk=set(Fraud2018['Employer'].dropna().values)\n",
    "MMN_Risk=set(Fraud2018['MMN'].dropna().values)"
   ]
  },
  {
   "cell_type": "code",
   "execution_count": 8,
   "metadata": {
    "ExecuteTime": {
     "end_time": "2020-02-10T14:56:25.285819Z",
     "start_time": "2020-02-10T14:56:09.007067Z"
    }
   },
   "outputs": [],
   "source": [
    "data2019=pd.read_csv(\"data/app_full_2019_new.csv\",dtype=str)"
   ]
  },
  {
   "cell_type": "code",
   "execution_count": 9,
   "metadata": {
    "ExecuteTime": {
     "end_time": "2020-02-10T14:56:31.580266Z",
     "start_time": "2020-02-10T14:56:29.615478Z"
    }
   },
   "outputs": [],
   "source": [
    "data2019=data_clean(data2019)"
   ]
  },
  {
   "cell_type": "code",
   "execution_count": 9,
   "metadata": {
    "ExecuteTime": {
     "end_time": "2020-02-08T16:51:04.523388Z",
     "start_time": "2020-02-08T16:51:02.477768Z"
    }
   },
   "outputs": [],
   "source": [
    "data2019['SSN_Risk']=[1 if x in SSN_Risk else 0 for x in data2019['SSN']]\n",
    "data2019['Phone_Risk']=[a or b for a, b in zip([1 if x in Phone_Risk else 0 for x in data2019['Home_Phone']],\n",
    "                                               [1 if x in Phone_Risk else 0 for x in data2019['Work_Phone']])]\n",
    "data2019['IP_Risk']=[1 if x in IP_Risk else 0 for x in data2019['IP_Address']]\n",
    "data2019['ZIP_Risk']=[1 if x in ZIP_Risk else 0 for x in data2019['Zip_Code']]"
   ]
  },
  {
   "cell_type": "code",
   "execution_count": 10,
   "metadata": {
    "ExecuteTime": {
     "end_time": "2020-02-08T16:51:57.597426Z",
     "start_time": "2020-02-08T16:51:07.581965Z"
    }
   },
   "outputs": [],
   "source": [
    "data2019['Email_Domain_Risk']= [0 if pd.isna(x) or x not in Email_Domain_Risk.index else Email_Domain_Risk[x] for x in data2019['Email_domain']]\n",
    "data2019['State_Risk']=[0 if pd.isna(x) or x not in State_Risk.index else State_Risk[x] for x in data2019['State']]\n",
    "data2019['City_Risk']= [0 if pd.isna(x) or x not in City_Risk.index else City_Risk[x] for x in data2019['City']]\n",
    "data2019['Agent_Bank_Risk']=[0 if pd.isna(x) or x not in Agent_Bank_Risk.index else Agent_Bank_Risk[x] for x in data2019['Agent_Bank']]\n",
    "data2019['Sub_Agent_Bank_Risk']=[0 if pd.isna(x) or x not in Sub_Agent_Bank_Risk.index else Sub_Agent_Bank_Risk[x] for x in data2019['Sub_Agent_Bank']]\n",
    "data2019['Sub_Channel_Risk']=[0 if pd.isna(x) or x not in Sub_Channel_Risk.index else Sub_Channel_Risk[x] for x in data2019['Sub_Channel']]\n"
   ]
  },
  {
   "cell_type": "code",
   "execution_count": 11,
   "metadata": {
    "ExecuteTime": {
     "end_time": "2020-02-08T16:52:01.904731Z",
     "start_time": "2020-02-08T16:52:01.806587Z"
    }
   },
   "outputs": [],
   "source": [
    "import Levenshtein"
   ]
  },
  {
   "cell_type": "code",
   "execution_count": null,
   "metadata": {},
   "outputs": [],
   "source": [
    "for feature in ['Full_name','Address','Email_user','Employer','MMN']:\n",
    "    data2019[f'{feature}_similarity']=[0 if pd.isna(x) else min([Levenshtein.distance(x,y) for y in Name_Risk]) for x in data2019[feature]]"
   ]
  },
  {
   "cell_type": "code",
   "execution_count": 13,
   "metadata": {
    "ExecuteTime": {
     "end_time": "2020-02-08T19:39:03.552203Z",
     "start_time": "2020-02-08T17:24:58.124229Z"
    }
   },
   "outputs": [],
   "source": [
    "data2019['Full_name_similarity']=[0 if pd.isna(x) else min([Levenshtein.distance(x,y) for y in Name_Risk]) for x in data2019['Full_name']]"
   ]
  },
  {
   "cell_type": "code",
   "execution_count": 14,
   "metadata": {
    "ExecuteTime": {
     "end_time": "2020-02-08T22:43:44.877311Z",
     "start_time": "2020-02-08T19:43:12.360647Z"
    }
   },
   "outputs": [],
   "source": [
    "data2019['Address_similarity']=[0 if pd.isna(x) else min([Levenshtein.distance(x,y) for y in Address_Risk]) for x in data2019['Address']]"
   ]
  },
  {
   "cell_type": "code",
   "execution_count": 15,
   "metadata": {
    "ExecuteTime": {
     "end_time": "2020-02-09T00:07:40.959839Z",
     "start_time": "2020-02-08T22:43:46.090577Z"
    }
   },
   "outputs": [],
   "source": [
    "data2019['Email_User_similarity']=[0 if pd.isna(x) else min([Levenshtein.distance(x,y) for y in Email_User_Risk]) for x in data2019['Email_user']]"
   ]
  },
  {
   "cell_type": "code",
   "execution_count": 16,
   "metadata": {
    "ExecuteTime": {
     "end_time": "2020-02-09T01:33:38.440071Z",
     "start_time": "2020-02-09T00:07:42.142369Z"
    }
   },
   "outputs": [],
   "source": [
    "data2019['Employer_similarity']=[0 if pd.isna(x) else min([Levenshtein.distance(x,y) for y in Employer_Risk]) for x in data2019['Employer']]"
   ]
  },
  {
   "cell_type": "code",
   "execution_count": 17,
   "metadata": {
    "ExecuteTime": {
     "end_time": "2020-02-09T02:18:17.290187Z",
     "start_time": "2020-02-09T01:33:39.534015Z"
    }
   },
   "outputs": [],
   "source": [
    "data2019['MMN_similarity']=[0 if pd.isna(x) else min([Levenshtein.distance(x,y) for y in MMN_Risk]) for x in data2019['MMN']]"
   ]
  },
  {
   "cell_type": "code",
   "execution_count": 18,
   "metadata": {
    "ExecuteTime": {
     "end_time": "2020-02-09T02:26:19.931869Z",
     "start_time": "2020-02-09T02:18:18.488364Z"
    }
   },
   "outputs": [],
   "source": [
    "data2019.to_csv('data/data2019.csv')"
   ]
  },
  {
   "cell_type": "code",
   "execution_count": 11,
   "metadata": {
    "ExecuteTime": {
     "end_time": "2020-02-10T15:54:05.903705Z",
     "start_time": "2020-02-10T15:53:10.287499Z"
    },
    "scrolled": false
   },
   "outputs": [
    {
     "name": "stderr",
     "output_type": "stream",
     "text": [
      "c:\\py37\\tens2\\lib\\site-packages\\IPython\\core\\interactiveshell.py:3058: DtypeWarning: Columns (1,11) have mixed types. Specify dtype option on import or set low_memory=False.\n",
      "  interactivity=interactivity, compiler=compiler, result=result)\n"
     ]
    }
   ],
   "source": [
    "data2019_final=pd.read_csv('data/data2019.csv')"
   ]
  },
  {
   "cell_type": "code",
   "execution_count": 29,
   "metadata": {
    "ExecuteTime": {
     "end_time": "2020-02-10T16:22:42.819463Z",
     "start_time": "2020-02-10T16:22:42.538445Z"
    }
   },
   "outputs": [],
   "source": [
    "phone=[(x,y) for x,y in zip(data2019_final['Work_Phone'],data2019_final['Home_Phone'])]"
   ]
  },
  {
   "cell_type": "code",
   "execution_count": 1,
   "metadata": {
    "ExecuteTime": {
     "end_time": "2020-02-12T23:01:40.884699Z",
     "start_time": "2020-02-12T23:01:40.881734Z"
    }
   },
   "outputs": [
    {
     "name": "stdout",
     "output_type": "stream",
     "text": [
      "Full_name_similarity\n",
      "Address_similarity\n",
      "Email_user_similarity\n",
      "Employer_similarity\n",
      "MMN_similarity\n"
     ]
    }
   ],
   "source": [
    "\n",
    "for feature in ['Full_name','Address','Email_user','Employer','MMN']:\n",
    "    print(f'{feature}_similarity')"
   ]
  },
  {
   "cell_type": "code",
   "execution_count": 11,
   "metadata": {
    "ExecuteTime": {
     "end_time": "2020-02-12T23:34:40.358412Z",
     "start_time": "2020-02-12T23:34:40.354407Z"
    }
   },
   "outputs": [],
   "source": [
    "x_risk=[10,19,20,30,50]"
   ]
  },
  {
   "cell_type": "code",
   "execution_count": 12,
   "metadata": {
    "ExecuteTime": {
     "end_time": "2020-02-12T23:34:43.634907Z",
     "start_time": "2020-02-12T23:34:43.630959Z"
    }
   },
   "outputs": [
    {
     "data": {
      "text/plain": [
       "[10, 19, 20, 30, 50]"
      ]
     },
     "execution_count": 12,
     "metadata": {},
     "output_type": "execute_result"
    }
   ],
   "source": [
    "x_risk"
   ]
  },
  {
   "cell_type": "code",
   "execution_count": 15,
   "metadata": {
    "ExecuteTime": {
     "end_time": "2020-02-12T23:34:57.440310Z",
     "start_time": "2020-02-12T23:34:57.437310Z"
    }
   },
   "outputs": [],
   "source": [
    "b=eval('x_risk')[3]"
   ]
  },
  {
   "cell_type": "code",
   "execution_count": 16,
   "metadata": {
    "ExecuteTime": {
     "end_time": "2020-02-12T23:35:01.621664Z",
     "start_time": "2020-02-12T23:35:01.616654Z"
    }
   },
   "outputs": [
    {
     "data": {
      "text/plain": [
       "30"
      ]
     },
     "execution_count": 16,
     "metadata": {},
     "output_type": "execute_result"
    }
   ],
   "source": [
    "b"
   ]
  }
 ],
 "metadata": {
  "kernelspec": {
   "display_name": "Python 3",
   "language": "python",
   "name": "python3"
  },
  "language_info": {
   "codemirror_mode": {
    "name": "ipython",
    "version": 3
   },
   "file_extension": ".py",
   "mimetype": "text/x-python",
   "name": "python",
   "nbconvert_exporter": "python",
   "pygments_lexer": "ipython3",
   "version": "3.7.5"
  },
  "varInspector": {
   "cols": {
    "lenName": 16,
    "lenType": 16,
    "lenVar": 40
   },
   "kernels_config": {
    "python": {
     "delete_cmd_postfix": "",
     "delete_cmd_prefix": "del ",
     "library": "var_list.py",
     "varRefreshCmd": "print(var_dic_list())"
    },
    "r": {
     "delete_cmd_postfix": ") ",
     "delete_cmd_prefix": "rm(",
     "library": "var_list.r",
     "varRefreshCmd": "cat(var_dic_list()) "
    }
   },
   "types_to_exclude": [
    "module",
    "function",
    "builtin_function_or_method",
    "instance",
    "_Feature"
   ],
   "window_display": false
  }
 },
 "nbformat": 4,
 "nbformat_minor": 2
}
